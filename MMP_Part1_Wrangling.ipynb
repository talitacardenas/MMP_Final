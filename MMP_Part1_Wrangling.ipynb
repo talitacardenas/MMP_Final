{
 "cells": [
  {
   "cell_type": "markdown",
   "id": "ed1ad186",
   "metadata": {},
   "source": [
    "# *MACHINE MANTEINANCE PREDICTOR*"
   ]
  },
  {
   "cell_type": "markdown",
   "id": "bbf4bcb7",
   "metadata": {},
   "source": [
    "# Purpose\n",
    "\n",
    "This project aims to apply a regression models to the 4-year history of usage parts, in order to improve the Service Level Agreement perfomance."
   ]
  },
  {
   "cell_type": "code",
   "execution_count": 3,
   "id": "070f51fe",
   "metadata": {},
   "outputs": [
    {
     "name": "stdout",
     "output_type": "stream",
     "text": [
      "Requirement already satisfied: faker in /Users/talitacoll/opt/anaconda3/lib/python3.8/site-packages (9.8.3)\n",
      "Requirement already satisfied: python-dateutil>=2.4 in /Users/talitacoll/opt/anaconda3/lib/python3.8/site-packages (from faker) (2.8.2)\n",
      "Requirement already satisfied: text-unidecode==1.3 in /Users/talitacoll/opt/anaconda3/lib/python3.8/site-packages (from faker) (1.3)\n",
      "Requirement already satisfied: six>=1.5 in /Users/talitacoll/opt/anaconda3/lib/python3.8/site-packages (from python-dateutil>=2.4->faker) (1.16.0)\n",
      "\u001b[33mWARNING: You are using pip version 21.2.4; however, version 21.3.1 is available.\n",
      "You should consider upgrading via the '/Users/talitacoll/opt/anaconda3/bin/python -m pip install --upgrade pip' command.\u001b[0m\n"
     ]
    }
   ],
   "source": [
    "!pip install faker"
   ]
  },
  {
   "cell_type": "code",
   "execution_count": 92,
   "id": "ff978ca2",
   "metadata": {},
   "outputs": [],
   "source": [
    "#Import libraries\n",
    "import string\n",
    "import random\n",
    "import pandas as pd\n",
    "import numpy as np\n",
    "from time import time\n",
    "from faker import Faker\n",
    "import datetime as dt\n",
    "import matplotlib.pyplot as plt\n",
    "from datetime import datetime, timedelta\n",
    "import seaborn as sns\n",
    "import csv\n",
    "import requests\n",
    "import json\n",
    "import io\n",
    "import warnings\n",
    "warnings.filterwarnings(\"ignore\")"
   ]
  },
  {
   "cell_type": "markdown",
   "id": "e96fb777",
   "metadata": {},
   "source": [
    "# Data\n",
    "\n",
    "As the information is not in the public domain, an exhaustive transformation of the data was carried out, keeping only generic data so as not to lose the dimensionality of the situation.\n",
    "Otherwise we could not apply the model in a real situation."
   ]
  },
  {
   "cell_type": "markdown",
   "id": "4870fa1a",
   "metadata": {},
   "source": [
    "**DATA WRANGLING**\n",
    "\n",
    "\n",
    "*Many DataFrames will be created and each one has their own reason to be*\n",
    "\n",
    "*Dimension tables:*\n",
    "\n",
    "pdf = finish goods and features\n",
    "\n",
    "mdf = modules and features\n",
    "\n",
    "sdf = spares and features\n",
    "\n",
    "cdf = customers\n",
    "\n",
    "*Fact tables:*\n",
    "\n",
    "ibdf = finish good installed base\n",
    "\n",
    "Any other fact table are the DataFrame where are working to prepare analysis and test models"
   ]
  },
  {
   "cell_type": "code",
   "execution_count": 5,
   "id": "c153d559",
   "metadata": {},
   "outputs": [],
   "source": [
    "#Definy only relevant columns for analysis\n",
    "cols = ['id','doc_type','transaction_date','order_type','order_date','quantity','unit_cost','extended_cost','item_type']"
   ]
  },
  {
   "cell_type": "code",
   "execution_count": 7,
   "id": "5345566e",
   "metadata": {},
   "outputs": [],
   "source": [
    "#The Excel file consist in stock movement\n",
    "#How data is not public, I didn´t put in a public repository.\n",
    "df = pd.read_excel('/Users/talitacoll/The Bridge/MMP_Final/original_data.xlsx',usecols=cols)"
   ]
  },
  {
   "cell_type": "code",
   "execution_count": 9,
   "id": "924c299e",
   "metadata": {},
   "outputs": [
    {
     "data": {
      "text/plain": [
       "(284399, 9)"
      ]
     },
     "execution_count": 9,
     "metadata": {},
     "output_type": "execute_result"
    }
   ],
   "source": [
    "df.shape"
   ]
  },
  {
   "cell_type": "code",
   "execution_count": 10,
   "id": "13865aea",
   "metadata": {},
   "outputs": [
    {
     "name": "stdout",
     "output_type": "stream",
     "text": [
      "<class 'pandas.core.frame.DataFrame'>\n",
      "RangeIndex: 284399 entries, 0 to 284398\n",
      "Data columns (total 9 columns):\n",
      " #   Column            Non-Null Count   Dtype         \n",
      "---  ------            --------------   -----         \n",
      " 0   id                284399 non-null  object        \n",
      " 1   doc_type          284399 non-null  object        \n",
      " 2   transaction_date  284399 non-null  datetime64[ns]\n",
      " 3   order_type        284399 non-null  object        \n",
      " 4   order_date        284399 non-null  datetime64[ns]\n",
      " 5   quantity          284399 non-null  int64         \n",
      " 6   unit_cost         284399 non-null  float64       \n",
      " 7   extended_cost     284399 non-null  float64       \n",
      " 8   item_type         284399 non-null  object        \n",
      "dtypes: datetime64[ns](2), float64(2), int64(1), object(4)\n",
      "memory usage: 19.5+ MB\n"
     ]
    }
   ],
   "source": [
    "df.info()"
   ]
  },
  {
   "cell_type": "markdown",
   "id": "f0ab7ba6",
   "metadata": {},
   "source": [
    "**Starting the first clean up**"
   ]
  },
  {
   "cell_type": "code",
   "execution_count": 11,
   "id": "5fcc02bc",
   "metadata": {},
   "outputs": [],
   "source": [
    "#Make the first cleaning to drop not relevants values\n",
    "df = df.drop(df[(df['quantity'] == 0) | (df['unit_cost'] == 0.0)].index)"
   ]
  },
  {
   "cell_type": "code",
   "execution_count": 12,
   "id": "0ca54a4c",
   "metadata": {},
   "outputs": [
    {
     "data": {
      "text/plain": [
       "(156366, 9)"
      ]
     },
     "execution_count": 12,
     "metadata": {},
     "output_type": "execute_result"
    }
   ],
   "source": [
    "df.shape"
   ]
  },
  {
   "cell_type": "markdown",
   "id": "6d083eb1",
   "metadata": {},
   "source": [
    "*Detecting transaction where is not consider a demand*"
   ]
  },
  {
   "cell_type": "code",
   "execution_count": 13,
   "id": "bc9bf8dc",
   "metadata": {},
   "outputs": [
    {
     "data": {
      "text/plain": [
       "array([' ', 'U1', 'E2', 'U2', 'UX', 'U3'], dtype=object)"
      ]
     },
     "execution_count": 13,
     "metadata": {},
     "output_type": "execute_result"
    }
   ],
   "source": [
    "df.order_type.unique()"
   ]
  },
  {
   "cell_type": "code",
   "execution_count": 14,
   "id": "1fb18f7d",
   "metadata": {},
   "outputs": [],
   "source": [
    "#Only order type starting with U is consider usage\n",
    "df = df[df.order_type.str.startswith('U')]"
   ]
  },
  {
   "cell_type": "code",
   "execution_count": 15,
   "id": "fe298474",
   "metadata": {},
   "outputs": [
    {
     "data": {
      "text/plain": [
       "(48810, 9)"
      ]
     },
     "execution_count": 15,
     "metadata": {},
     "output_type": "execute_result"
    }
   ],
   "source": [
    "df.shape"
   ]
  },
  {
   "cell_type": "markdown",
   "id": "3d17fce4",
   "metadata": {},
   "source": [
    "*Detecting material that is not modules or spare*"
   ]
  },
  {
   "cell_type": "code",
   "execution_count": 16,
   "id": "11104270",
   "metadata": {},
   "outputs": [
    {
     "data": {
      "text/plain": [
       "array(['SPA', 'MOD', 'MAC', 'SOF'], dtype=object)"
      ]
     },
     "execution_count": 16,
     "metadata": {},
     "output_type": "execute_result"
    }
   ],
   "source": [
    "df.item_type.unique()"
   ]
  },
  {
   "cell_type": "code",
   "execution_count": 17,
   "id": "23bda724",
   "metadata": {},
   "outputs": [],
   "source": [
    "#Drop what is not modules or spares\n",
    "df = df.drop(df[(df['item_type'] == 'MAC') | (df['item_type'] == 'SOF')].index)"
   ]
  },
  {
   "cell_type": "code",
   "execution_count": 18,
   "id": "7abac77e",
   "metadata": {},
   "outputs": [
    {
     "data": {
      "text/plain": [
       "(47798, 9)"
      ]
     },
     "execution_count": 18,
     "metadata": {},
     "output_type": "execute_result"
    }
   ],
   "source": [
    "df.shape"
   ]
  },
  {
   "cell_type": "markdown",
   "id": "6ab8e988",
   "metadata": {},
   "source": [
    "**How the document is based on existent data, but we want to replace by ficticious codes, we are starting the transforming data before start EDA**"
   ]
  },
  {
   "cell_type": "code",
   "execution_count": 19,
   "id": "8e3931f3",
   "metadata": {},
   "outputs": [],
   "source": [
    "#Split the dataframe in modules and spares\n",
    "dfmod = df[df.item_type=='MOD']\n",
    "dfspa = df[df.item_type=='SPA']"
   ]
  },
  {
   "cell_type": "code",
   "execution_count": 20,
   "id": "4491e5f4",
   "metadata": {},
   "outputs": [],
   "source": [
    "#This function is creating dataframes to supporting the replacement\n",
    "def code_creat(a,b,c,d,e,f,g):\n",
    "        a=[]\n",
    "        for i in b:\n",
    "            id = c + (d % random.randrange(e)).upper()\n",
    "            a.append(id)\n",
    "        f = pd.DataFrame(a,columns=[g]) \n",
    "        return f"
   ]
  },
  {
   "cell_type": "code",
   "execution_count": 21,
   "id": "759ca88f",
   "metadata": {},
   "outputs": [],
   "source": [
    "#A dictionary with the features to make replacements in the dataframe\n",
    "codes={'m':{'a':'mback', 'b':range(len(dfmod.id.value_counts())), 'c':'M', 'd':'%06x',\n",
    "                'e':999999, 'f':'mdf', 'g':'cid'}, \n",
    "       's':{'a':'sback', 'b':range(len(dfspa.id.value_counts())), 'c':'S', 'd':'%08x', \n",
    "               'e':99999999, 'f':'sdf', 'g':'cid'},\n",
    "      'p':{'a':'pback', 'b':range(45), 'c':'P', 'd':'%04x',\n",
    "                'e':99999, 'f':'pdf', 'g':'id'}}"
   ]
  },
  {
   "cell_type": "code",
   "execution_count": 22,
   "id": "70a6ae3b",
   "metadata": {},
   "outputs": [],
   "source": [
    "#Apply def in elements of dictionary\n",
    "for k, v in codes.items():\n",
    "    for i in k:\n",
    "        exec(f'{k}df = code_creat(**v)')"
   ]
  },
  {
   "cell_type": "code",
   "execution_count": 23,
   "id": "dd0b84f5",
   "metadata": {},
   "outputs": [
    {
     "name": "stdout",
     "output_type": "stream",
     "text": [
      "Original and new df for spares len:  1246  and  (1246, 1) \n",
      " Original and new df for modules len:  789  and  (789, 1) \n",
      " and df for products:  (45, 1)\n"
     ]
    }
   ],
   "source": [
    "#Check the def is working\n",
    "print('Original and new df for spares len: ',len(dfspa.id.value_counts()),' and ',sdf.shape,'\\n',\n",
    "      'Original and new df for modules len: ',len(dfmod.id.value_counts()),' and ',mdf.shape,'\\n',\n",
    "      'and df for products: ', pdf.shape)"
   ]
  },
  {
   "cell_type": "code",
   "execution_count": 24,
   "id": "f50935f9",
   "metadata": {},
   "outputs": [
    {
     "data": {
      "text/html": [
       "<div>\n",
       "<style scoped>\n",
       "    .dataframe tbody tr th:only-of-type {\n",
       "        vertical-align: middle;\n",
       "    }\n",
       "\n",
       "    .dataframe tbody tr th {\n",
       "        vertical-align: top;\n",
       "    }\n",
       "\n",
       "    .dataframe thead th {\n",
       "        text-align: right;\n",
       "    }\n",
       "</style>\n",
       "<table border=\"1\" class=\"dataframe\">\n",
       "  <thead>\n",
       "    <tr style=\"text-align: right;\">\n",
       "      <th></th>\n",
       "      <th>cid</th>\n",
       "    </tr>\n",
       "  </thead>\n",
       "  <tbody>\n",
       "    <tr>\n",
       "      <th>0</th>\n",
       "      <td>S031B79EA</td>\n",
       "    </tr>\n",
       "    <tr>\n",
       "      <th>1</th>\n",
       "      <td>S030F5A8F</td>\n",
       "    </tr>\n",
       "    <tr>\n",
       "      <th>2</th>\n",
       "      <td>S0322692D</td>\n",
       "    </tr>\n",
       "    <tr>\n",
       "      <th>3</th>\n",
       "      <td>S04164E76</td>\n",
       "    </tr>\n",
       "    <tr>\n",
       "      <th>4</th>\n",
       "      <td>S04ECF605</td>\n",
       "    </tr>\n",
       "  </tbody>\n",
       "</table>\n",
       "</div>"
      ],
      "text/plain": [
       "         cid\n",
       "0  S031B79EA\n",
       "1  S030F5A8F\n",
       "2  S0322692D\n",
       "3  S04164E76\n",
       "4  S04ECF605"
      ]
     },
     "execution_count": 24,
     "metadata": {},
     "output_type": "execute_result"
    }
   ],
   "source": [
    "sdf.head()"
   ]
  },
  {
   "cell_type": "code",
   "execution_count": 25,
   "id": "8a6afc1e",
   "metadata": {},
   "outputs": [
    {
     "data": {
      "text/html": [
       "<div>\n",
       "<style scoped>\n",
       "    .dataframe tbody tr th:only-of-type {\n",
       "        vertical-align: middle;\n",
       "    }\n",
       "\n",
       "    .dataframe tbody tr th {\n",
       "        vertical-align: top;\n",
       "    }\n",
       "\n",
       "    .dataframe thead th {\n",
       "        text-align: right;\n",
       "    }\n",
       "</style>\n",
       "<table border=\"1\" class=\"dataframe\">\n",
       "  <thead>\n",
       "    <tr style=\"text-align: right;\">\n",
       "      <th></th>\n",
       "      <th>cid</th>\n",
       "    </tr>\n",
       "  </thead>\n",
       "  <tbody>\n",
       "    <tr>\n",
       "      <th>0</th>\n",
       "      <td>M0B5DB4</td>\n",
       "    </tr>\n",
       "    <tr>\n",
       "      <th>1</th>\n",
       "      <td>M076BF6</td>\n",
       "    </tr>\n",
       "    <tr>\n",
       "      <th>2</th>\n",
       "      <td>M01E6ED</td>\n",
       "    </tr>\n",
       "    <tr>\n",
       "      <th>3</th>\n",
       "      <td>M02E559</td>\n",
       "    </tr>\n",
       "    <tr>\n",
       "      <th>4</th>\n",
       "      <td>M0B2C6F</td>\n",
       "    </tr>\n",
       "  </tbody>\n",
       "</table>\n",
       "</div>"
      ],
      "text/plain": [
       "       cid\n",
       "0  M0B5DB4\n",
       "1  M076BF6\n",
       "2  M01E6ED\n",
       "3  M02E559\n",
       "4  M0B2C6F"
      ]
     },
     "execution_count": 25,
     "metadata": {},
     "output_type": "execute_result"
    }
   ],
   "source": [
    "mdf.head()"
   ]
  },
  {
   "cell_type": "code",
   "execution_count": 26,
   "id": "cc8790b2",
   "metadata": {},
   "outputs": [
    {
     "data": {
      "text/html": [
       "<div>\n",
       "<style scoped>\n",
       "    .dataframe tbody tr th:only-of-type {\n",
       "        vertical-align: middle;\n",
       "    }\n",
       "\n",
       "    .dataframe tbody tr th {\n",
       "        vertical-align: top;\n",
       "    }\n",
       "\n",
       "    .dataframe thead th {\n",
       "        text-align: right;\n",
       "    }\n",
       "</style>\n",
       "<table border=\"1\" class=\"dataframe\">\n",
       "  <thead>\n",
       "    <tr style=\"text-align: right;\">\n",
       "      <th></th>\n",
       "      <th>id</th>\n",
       "    </tr>\n",
       "  </thead>\n",
       "  <tbody>\n",
       "    <tr>\n",
       "      <th>0</th>\n",
       "      <td>P12FF3</td>\n",
       "    </tr>\n",
       "    <tr>\n",
       "      <th>1</th>\n",
       "      <td>P5DF0</td>\n",
       "    </tr>\n",
       "    <tr>\n",
       "      <th>2</th>\n",
       "      <td>PE390</td>\n",
       "    </tr>\n",
       "    <tr>\n",
       "      <th>3</th>\n",
       "      <td>P2AB0</td>\n",
       "    </tr>\n",
       "    <tr>\n",
       "      <th>4</th>\n",
       "      <td>PB91E</td>\n",
       "    </tr>\n",
       "  </tbody>\n",
       "</table>\n",
       "</div>"
      ],
      "text/plain": [
       "       id\n",
       "0  P12FF3\n",
       "1   P5DF0\n",
       "2   PE390\n",
       "3   P2AB0\n",
       "4   PB91E"
      ]
     },
     "execution_count": 26,
     "metadata": {},
     "output_type": "execute_result"
    }
   ],
   "source": [
    "pdf.head()"
   ]
  },
  {
   "cell_type": "code",
   "execution_count": 27,
   "id": "906cc145",
   "metadata": {},
   "outputs": [],
   "source": [
    "#Definy spares group to EDA and model\n",
    "component_group = ['fix','plate','eletronic','mecanic','other']\n",
    "for i in sdf:\n",
    "    sdf['component_group'] = random.choices(component_group,k=len(sdf))"
   ]
  },
  {
   "cell_type": "code",
   "execution_count": 28,
   "id": "9bde5601",
   "metadata": {},
   "outputs": [],
   "source": [
    "components = ([mdf,sdf])"
   ]
  },
  {
   "cell_type": "code",
   "execution_count": 29,
   "id": "b2cbdec0",
   "metadata": {},
   "outputs": [],
   "source": [
    "idf = pd.concat(components,axis=0,join=\"outer\",ignore_index=False)"
   ]
  },
  {
   "cell_type": "code",
   "execution_count": 30,
   "id": "4086d6c5",
   "metadata": {},
   "outputs": [],
   "source": [
    "idf.fillna('module',inplace=True)"
   ]
  },
  {
   "cell_type": "code",
   "execution_count": 31,
   "id": "7672f5e2",
   "metadata": {},
   "outputs": [
    {
     "data": {
      "text/html": [
       "<div>\n",
       "<style scoped>\n",
       "    .dataframe tbody tr th:only-of-type {\n",
       "        vertical-align: middle;\n",
       "    }\n",
       "\n",
       "    .dataframe tbody tr th {\n",
       "        vertical-align: top;\n",
       "    }\n",
       "\n",
       "    .dataframe thead th {\n",
       "        text-align: right;\n",
       "    }\n",
       "</style>\n",
       "<table border=\"1\" class=\"dataframe\">\n",
       "  <thead>\n",
       "    <tr style=\"text-align: right;\">\n",
       "      <th></th>\n",
       "      <th>cid</th>\n",
       "      <th>component_group</th>\n",
       "    </tr>\n",
       "  </thead>\n",
       "  <tbody>\n",
       "    <tr>\n",
       "      <th>738</th>\n",
       "      <td>S01C9CCE1</td>\n",
       "      <td>fix</td>\n",
       "    </tr>\n",
       "    <tr>\n",
       "      <th>229</th>\n",
       "      <td>S04912A7C</td>\n",
       "      <td>fix</td>\n",
       "    </tr>\n",
       "    <tr>\n",
       "      <th>80</th>\n",
       "      <td>S03241183</td>\n",
       "      <td>plate</td>\n",
       "    </tr>\n",
       "    <tr>\n",
       "      <th>491</th>\n",
       "      <td>M04AC04</td>\n",
       "      <td>module</td>\n",
       "    </tr>\n",
       "    <tr>\n",
       "      <th>367</th>\n",
       "      <td>M0C924E</td>\n",
       "      <td>module</td>\n",
       "    </tr>\n",
       "    <tr>\n",
       "      <th>862</th>\n",
       "      <td>S00DC8557</td>\n",
       "      <td>mecanic</td>\n",
       "    </tr>\n",
       "    <tr>\n",
       "      <th>1179</th>\n",
       "      <td>S01523BFD</td>\n",
       "      <td>eletronic</td>\n",
       "    </tr>\n",
       "    <tr>\n",
       "      <th>696</th>\n",
       "      <td>M0B9917</td>\n",
       "      <td>module</td>\n",
       "    </tr>\n",
       "    <tr>\n",
       "      <th>486</th>\n",
       "      <td>M047703</td>\n",
       "      <td>module</td>\n",
       "    </tr>\n",
       "    <tr>\n",
       "      <th>328</th>\n",
       "      <td>M050E99</td>\n",
       "      <td>module</td>\n",
       "    </tr>\n",
       "  </tbody>\n",
       "</table>\n",
       "</div>"
      ],
      "text/plain": [
       "            cid component_group\n",
       "738   S01C9CCE1             fix\n",
       "229   S04912A7C             fix\n",
       "80    S03241183           plate\n",
       "491     M04AC04          module\n",
       "367     M0C924E          module\n",
       "862   S00DC8557         mecanic\n",
       "1179  S01523BFD       eletronic\n",
       "696     M0B9917          module\n",
       "486     M047703          module\n",
       "328     M050E99          module"
      ]
     },
     "execution_count": 31,
     "metadata": {},
     "output_type": "execute_result"
    }
   ],
   "source": [
    "idf.sample(10)"
   ]
  },
  {
   "cell_type": "code",
   "execution_count": 32,
   "id": "6a8198e6",
   "metadata": {},
   "outputs": [],
   "source": [
    "#Asign a quantity units per usage\n",
    "def upm(idf):\n",
    "    if idf.component_group != 'fix':\n",
    "        f = random.randint(1,2)\n",
    "    else:\n",
    "        f = random.randint(1,8)*2\n",
    "    return (f)"
   ]
  },
  {
   "cell_type": "code",
   "execution_count": 33,
   "id": "80a28c73",
   "metadata": {},
   "outputs": [],
   "source": [
    "idf['upm'] = sdf.apply(upm,axis=1)"
   ]
  },
  {
   "cell_type": "code",
   "execution_count": 34,
   "id": "39c4a27c",
   "metadata": {},
   "outputs": [
    {
     "data": {
      "text/html": [
       "<div>\n",
       "<style scoped>\n",
       "    .dataframe tbody tr th:only-of-type {\n",
       "        vertical-align: middle;\n",
       "    }\n",
       "\n",
       "    .dataframe tbody tr th {\n",
       "        vertical-align: top;\n",
       "    }\n",
       "\n",
       "    .dataframe thead th {\n",
       "        text-align: right;\n",
       "    }\n",
       "</style>\n",
       "<table border=\"1\" class=\"dataframe\">\n",
       "  <thead>\n",
       "    <tr style=\"text-align: right;\">\n",
       "      <th></th>\n",
       "      <th>cid</th>\n",
       "      <th>component_group</th>\n",
       "      <th>upm</th>\n",
       "    </tr>\n",
       "  </thead>\n",
       "  <tbody>\n",
       "    <tr>\n",
       "      <th>154</th>\n",
       "      <td>S04D6F70A</td>\n",
       "      <td>eletronic</td>\n",
       "      <td>1</td>\n",
       "    </tr>\n",
       "    <tr>\n",
       "      <th>1147</th>\n",
       "      <td>S010E4235</td>\n",
       "      <td>other</td>\n",
       "      <td>1</td>\n",
       "    </tr>\n",
       "    <tr>\n",
       "      <th>166</th>\n",
       "      <td>M057899</td>\n",
       "      <td>module</td>\n",
       "      <td>2</td>\n",
       "    </tr>\n",
       "  </tbody>\n",
       "</table>\n",
       "</div>"
      ],
      "text/plain": [
       "            cid component_group  upm\n",
       "154   S04D6F70A       eletronic    1\n",
       "1147  S010E4235           other    1\n",
       "166     M057899          module    2"
      ]
     },
     "execution_count": 34,
     "metadata": {},
     "output_type": "execute_result"
    }
   ],
   "source": [
    "idf.sample(3)"
   ]
  },
  {
   "cell_type": "markdown",
   "id": "b78262f2",
   "metadata": {},
   "source": [
    "**CREATING CUSTOMER INSTALLED BASE**\n",
    "\n",
    "*This part consist in create customer backlog to assign a local for each product serial number*"
   ]
  },
  {
   "cell_type": "code",
   "execution_count": 35,
   "id": "b2d561e1",
   "metadata": {},
   "outputs": [],
   "source": [
    "#Function to create sequential IDs\n",
    "def id_create(a,b,c):\n",
    "    b = []\n",
    "    for i in a:\n",
    "        id = c + '%.7d' % i\n",
    "        b.append(id)\n",
    "    return b"
   ]
  },
  {
   "cell_type": "code",
   "execution_count": 36,
   "id": "621a6d21",
   "metadata": {},
   "outputs": [],
   "source": [
    "#Dictionary with serial number and customers features to create IDs\n",
    "backlog={'bcustomers':{'a':range(1,200+1),'b':'bcustomers','c':'CS'},\n",
    "         'serial_pack':{'a':range(1,12000+1),'b':'serial_pack','c':'SN'}}"
   ]
  },
  {
   "cell_type": "code",
   "execution_count": 37,
   "id": "6b612475",
   "metadata": {},
   "outputs": [],
   "source": [
    "#Execute backlog dictionary to create IDs\n",
    "for k, v in backlog.items():\n",
    "    for i in k:\n",
    "        exec(f'{k} = id_create(**v)')"
   ]
  },
  {
   "cell_type": "code",
   "execution_count": 38,
   "id": "8761035e",
   "metadata": {},
   "outputs": [
    {
     "name": "stdout",
     "output_type": "stream",
     "text": [
      "200 12000\n"
     ]
    }
   ],
   "source": [
    "print(len(bcustomers),len(serial_pack))"
   ]
  },
  {
   "cell_type": "code",
   "execution_count": 39,
   "id": "8e0eb29c",
   "metadata": {},
   "outputs": [
    {
     "data": {
      "text/html": [
       "<div>\n",
       "<style scoped>\n",
       "    .dataframe tbody tr th:only-of-type {\n",
       "        vertical-align: middle;\n",
       "    }\n",
       "\n",
       "    .dataframe tbody tr th {\n",
       "        vertical-align: top;\n",
       "    }\n",
       "\n",
       "    .dataframe thead th {\n",
       "        text-align: right;\n",
       "    }\n",
       "</style>\n",
       "<table border=\"1\" class=\"dataframe\">\n",
       "  <thead>\n",
       "    <tr style=\"text-align: right;\">\n",
       "      <th></th>\n",
       "      <th>customer_id</th>\n",
       "      <th>name</th>\n",
       "      <th>address</th>\n",
       "    </tr>\n",
       "  </thead>\n",
       "  <tbody>\n",
       "    <tr>\n",
       "      <th>0</th>\n",
       "      <td>CS0000001</td>\n",
       "      <td>Ángeles Ámbar Marco Mendoza</td>\n",
       "      <td>Pasaje de Rita Moll 95\\nSegovia, 11224</td>\n",
       "    </tr>\n",
       "    <tr>\n",
       "      <th>1</th>\n",
       "      <td>CS0000002</td>\n",
       "      <td>Ernesto Alcázar Zamora</td>\n",
       "      <td>Paseo de Etelvina Mendoza 993 Puerta 3 \\nCuenc...</td>\n",
       "    </tr>\n",
       "  </tbody>\n",
       "</table>\n",
       "</div>"
      ],
      "text/plain": [
       "  customer_id                         name  \\\n",
       "0   CS0000001  Ángeles Ámbar Marco Mendoza   \n",
       "1   CS0000002       Ernesto Alcázar Zamora   \n",
       "\n",
       "                                             address  \n",
       "0             Pasaje de Rita Moll 95\\nSegovia, 11224  \n",
       "1  Paseo de Etelvina Mendoza 993 Puerta 3 \\nCuenc...  "
      ]
     },
     "execution_count": 39,
     "metadata": {},
     "output_type": "execute_result"
    }
   ],
   "source": [
    "#Use the Fake Library we will create names and address to include in our customer backlog\n",
    "fake = Faker('es_ES')\n",
    "namelist = []\n",
    "addresslist = []\n",
    "for i in range(len(bcustomers)):\n",
    "    namelist.append(fake.name())\n",
    "    addresslist.append(fake.address())\n",
    "    \n",
    "cdf = pd.DataFrame(bcustomers,columns=['customer_id'])\n",
    "k=len(bcustomers)\n",
    "fake = Faker('es_ES')\n",
    "for i in cdf.customer_id:\n",
    "    cdf['name'] = random.choices(namelist,k=k)\n",
    "    cdf['address']= random.choices(addresslist,k=k)\n",
    "\n",
    "cdf.head(2)"
   ]
  },
  {
   "cell_type": "code",
   "execution_count": 40,
   "id": "39b7c8d3",
   "metadata": {},
   "outputs": [],
   "source": [
    "#Fiting the address in the best way\n",
    "cdf[['address','zone']] = cdf['address'].str.split(pat=\"\\n\",n=-1,expand=True)\n",
    "cdf[['zone','cp']] = cdf['zone'].str.split(pat=\",\",n=-1,expand=True)"
   ]
  },
  {
   "cell_type": "code",
   "execution_count": 41,
   "id": "9a9903b7",
   "metadata": {},
   "outputs": [
    {
     "data": {
      "text/html": [
       "<div>\n",
       "<style scoped>\n",
       "    .dataframe tbody tr th:only-of-type {\n",
       "        vertical-align: middle;\n",
       "    }\n",
       "\n",
       "    .dataframe tbody tr th {\n",
       "        vertical-align: top;\n",
       "    }\n",
       "\n",
       "    .dataframe thead th {\n",
       "        text-align: right;\n",
       "    }\n",
       "</style>\n",
       "<table border=\"1\" class=\"dataframe\">\n",
       "  <thead>\n",
       "    <tr style=\"text-align: right;\">\n",
       "      <th></th>\n",
       "      <th>customer_id</th>\n",
       "      <th>name</th>\n",
       "      <th>address</th>\n",
       "      <th>zone</th>\n",
       "      <th>cp</th>\n",
       "    </tr>\n",
       "  </thead>\n",
       "  <tbody>\n",
       "    <tr>\n",
       "      <th>0</th>\n",
       "      <td>CS0000001</td>\n",
       "      <td>Ángeles Ámbar Marco Mendoza</td>\n",
       "      <td>Pasaje de Rita Moll 95</td>\n",
       "      <td>Segovia</td>\n",
       "      <td>11224</td>\n",
       "    </tr>\n",
       "    <tr>\n",
       "      <th>1</th>\n",
       "      <td>CS0000002</td>\n",
       "      <td>Ernesto Alcázar Zamora</td>\n",
       "      <td>Paseo de Etelvina Mendoza 993 Puerta 3</td>\n",
       "      <td>Cuenca</td>\n",
       "      <td>25092</td>\n",
       "    </tr>\n",
       "    <tr>\n",
       "      <th>2</th>\n",
       "      <td>CS0000003</td>\n",
       "      <td>Manolo Cortes Boix</td>\n",
       "      <td>Plaza de Adrián Nogueira 41 Puerta 1</td>\n",
       "      <td>Cuenca</td>\n",
       "      <td>94571</td>\n",
       "    </tr>\n",
       "    <tr>\n",
       "      <th>3</th>\n",
       "      <td>CS0000004</td>\n",
       "      <td>Aura Canales Serna</td>\n",
       "      <td>Vial Marisol Amat 39 Puerta 0</td>\n",
       "      <td>Castellón</td>\n",
       "      <td>35790</td>\n",
       "    </tr>\n",
       "    <tr>\n",
       "      <th>4</th>\n",
       "      <td>CS0000005</td>\n",
       "      <td>Atilio Dalmau Alemany</td>\n",
       "      <td>Plaza Prudencio Torrecilla 14 Puerta 6</td>\n",
       "      <td>Alicante</td>\n",
       "      <td>30535</td>\n",
       "    </tr>\n",
       "  </tbody>\n",
       "</table>\n",
       "</div>"
      ],
      "text/plain": [
       "  customer_id                         name  \\\n",
       "0   CS0000001  Ángeles Ámbar Marco Mendoza   \n",
       "1   CS0000002       Ernesto Alcázar Zamora   \n",
       "2   CS0000003           Manolo Cortes Boix   \n",
       "3   CS0000004           Aura Canales Serna   \n",
       "4   CS0000005        Atilio Dalmau Alemany   \n",
       "\n",
       "                                   address       zone      cp  \n",
       "0                   Pasaje de Rita Moll 95    Segovia   11224  \n",
       "1  Paseo de Etelvina Mendoza 993 Puerta 3      Cuenca   25092  \n",
       "2    Plaza de Adrián Nogueira 41 Puerta 1      Cuenca   94571  \n",
       "3           Vial Marisol Amat 39 Puerta 0   Castellón   35790  \n",
       "4  Plaza Prudencio Torrecilla 14 Puerta 6    Alicante   30535  "
      ]
     },
     "execution_count": 41,
     "metadata": {},
     "output_type": "execute_result"
    }
   ],
   "source": [
    "cdf.head()"
   ]
  },
  {
   "cell_type": "code",
   "execution_count": 42,
   "id": "ea22605a",
   "metadata": {},
   "outputs": [],
   "source": [
    "#around 4 minutes to run this block\n",
    "#Creating the installed base in our customers\n",
    "ibdf=pd.DataFrame(serial_pack,columns=['serial_id'])\n",
    "for i in serial_pack:\n",
    "  ibdf['product_id'] = random.choices(pdf.id,k=len(serial_pack))\n",
    "  ibdf['customer_id'] = random.choices(bcustomers,k=len(serial_pack))"
   ]
  },
  {
   "cell_type": "code",
   "execution_count": 43,
   "id": "34e01e6e",
   "metadata": {},
   "outputs": [
    {
     "data": {
      "text/html": [
       "<div>\n",
       "<style scoped>\n",
       "    .dataframe tbody tr th:only-of-type {\n",
       "        vertical-align: middle;\n",
       "    }\n",
       "\n",
       "    .dataframe tbody tr th {\n",
       "        vertical-align: top;\n",
       "    }\n",
       "\n",
       "    .dataframe thead th {\n",
       "        text-align: right;\n",
       "    }\n",
       "</style>\n",
       "<table border=\"1\" class=\"dataframe\">\n",
       "  <thead>\n",
       "    <tr style=\"text-align: right;\">\n",
       "      <th></th>\n",
       "      <th>serial_id</th>\n",
       "      <th>product_id</th>\n",
       "      <th>customer_id</th>\n",
       "      <th>install_date</th>\n",
       "    </tr>\n",
       "  </thead>\n",
       "  <tbody>\n",
       "    <tr>\n",
       "      <th>3095</th>\n",
       "      <td>SN0003096</td>\n",
       "      <td>P1335E</td>\n",
       "      <td>CS0000121</td>\n",
       "      <td>2015-09-22</td>\n",
       "    </tr>\n",
       "    <tr>\n",
       "      <th>8679</th>\n",
       "      <td>SN0008680</td>\n",
       "      <td>P2423</td>\n",
       "      <td>CS0000146</td>\n",
       "      <td>2014-10-23</td>\n",
       "    </tr>\n",
       "  </tbody>\n",
       "</table>\n",
       "</div>"
      ],
      "text/plain": [
       "      serial_id product_id customer_id install_date\n",
       "3095  SN0003096     P1335E   CS0000121   2015-09-22\n",
       "8679  SN0008680      P2423   CS0000146   2014-10-23"
      ]
     },
     "execution_count": 43,
     "metadata": {},
     "output_type": "execute_result"
    }
   ],
   "source": [
    "#Defyning the date when the machine has been installed in the customer\n",
    "date1 = '2013-05-03'\n",
    "date2 = '2017-05-10'\n",
    "start = dt.datetime.strptime(date1, '%Y-%m-%d')\n",
    "end = dt.datetime.strptime(date2, '%Y-%m-%d')\n",
    "ibdf['install_date'] = random.choices((pd.date_range(date1,date2)),k=len(serial_pack))\n",
    "ibdf.sample(2)"
   ]
  },
  {
   "cell_type": "code",
   "execution_count": 95,
   "id": "1169c07a",
   "metadata": {},
   "outputs": [
    {
     "data": {
      "text/html": [
       "<div>\n",
       "<style scoped>\n",
       "    .dataframe tbody tr th:only-of-type {\n",
       "        vertical-align: middle;\n",
       "    }\n",
       "\n",
       "    .dataframe tbody tr th {\n",
       "        vertical-align: top;\n",
       "    }\n",
       "\n",
       "    .dataframe thead th {\n",
       "        text-align: right;\n",
       "    }\n",
       "</style>\n",
       "<table border=\"1\" class=\"dataframe\">\n",
       "  <thead>\n",
       "    <tr style=\"text-align: right;\">\n",
       "      <th></th>\n",
       "      <th>serial_id</th>\n",
       "      <th>product_id</th>\n",
       "      <th>customer_id</th>\n",
       "      <th>install_date</th>\n",
       "    </tr>\n",
       "  </thead>\n",
       "  <tbody>\n",
       "    <tr>\n",
       "      <th>11961</th>\n",
       "      <td>SN0011962</td>\n",
       "      <td>PF501</td>\n",
       "      <td>CS0000035</td>\n",
       "      <td>2015-06-07</td>\n",
       "    </tr>\n",
       "    <tr>\n",
       "      <th>685</th>\n",
       "      <td>SN0000686</td>\n",
       "      <td>P121F</td>\n",
       "      <td>CS0000054</td>\n",
       "      <td>2014-05-10</td>\n",
       "    </tr>\n",
       "    <tr>\n",
       "      <th>5234</th>\n",
       "      <td>SN0005235</td>\n",
       "      <td>PE390</td>\n",
       "      <td>CS0000183</td>\n",
       "      <td>2013-12-04</td>\n",
       "    </tr>\n",
       "    <tr>\n",
       "      <th>3981</th>\n",
       "      <td>SN0003982</td>\n",
       "      <td>PFE6E</td>\n",
       "      <td>CS0000120</td>\n",
       "      <td>2014-01-30</td>\n",
       "    </tr>\n",
       "    <tr>\n",
       "      <th>11736</th>\n",
       "      <td>SN0011737</td>\n",
       "      <td>PB91E</td>\n",
       "      <td>CS0000001</td>\n",
       "      <td>2015-07-20</td>\n",
       "    </tr>\n",
       "    <tr>\n",
       "      <th>4502</th>\n",
       "      <td>SN0004503</td>\n",
       "      <td>P75B8</td>\n",
       "      <td>CS0000016</td>\n",
       "      <td>2014-03-13</td>\n",
       "    </tr>\n",
       "    <tr>\n",
       "      <th>2152</th>\n",
       "      <td>SN0002153</td>\n",
       "      <td>PFE6E</td>\n",
       "      <td>CS0000159</td>\n",
       "      <td>2016-11-08</td>\n",
       "    </tr>\n",
       "    <tr>\n",
       "      <th>5535</th>\n",
       "      <td>SN0005536</td>\n",
       "      <td>P152E9</td>\n",
       "      <td>CS0000004</td>\n",
       "      <td>2014-10-30</td>\n",
       "    </tr>\n",
       "    <tr>\n",
       "      <th>9744</th>\n",
       "      <td>SN0009745</td>\n",
       "      <td>P14627</td>\n",
       "      <td>CS0000149</td>\n",
       "      <td>2014-06-04</td>\n",
       "    </tr>\n",
       "    <tr>\n",
       "      <th>7412</th>\n",
       "      <td>SN0007413</td>\n",
       "      <td>PFE6E</td>\n",
       "      <td>CS0000116</td>\n",
       "      <td>2016-01-03</td>\n",
       "    </tr>\n",
       "  </tbody>\n",
       "</table>\n",
       "</div>"
      ],
      "text/plain": [
       "       serial_id product_id customer_id install_date\n",
       "11961  SN0011962      PF501   CS0000035   2015-06-07\n",
       "685    SN0000686      P121F   CS0000054   2014-05-10\n",
       "5234   SN0005235      PE390   CS0000183   2013-12-04\n",
       "3981   SN0003982      PFE6E   CS0000120   2014-01-30\n",
       "11736  SN0011737      PB91E   CS0000001   2015-07-20\n",
       "4502   SN0004503      P75B8   CS0000016   2014-03-13\n",
       "2152   SN0002153      PFE6E   CS0000159   2016-11-08\n",
       "5535   SN0005536     P152E9   CS0000004   2014-10-30\n",
       "9744   SN0009745     P14627   CS0000149   2014-06-04\n",
       "7412   SN0007413      PFE6E   CS0000116   2016-01-03"
      ]
     },
     "execution_count": 95,
     "metadata": {},
     "output_type": "execute_result"
    }
   ],
   "source": [
    "ibdf.sample(10)"
   ]
  },
  {
   "cell_type": "code",
   "execution_count": 44,
   "id": "6e425573",
   "metadata": {},
   "outputs": [],
   "source": [
    "#To replaces IDs with fictial ID and keep ids quantity in the same proporcion, we will create a a new df with both columns and make a lookup\n",
    "spa1 = pd.DataFrame(dfspa.id.drop_duplicates()).reset_index(drop=True)\n",
    "spa2 = sdf.cid\n",
    "spa = pd.concat([spa1.reset_index(drop=True),spa2.reset_index(drop=True)],axis=1)"
   ]
  },
  {
   "cell_type": "code",
   "execution_count": 45,
   "id": "9260ac0c",
   "metadata": {},
   "outputs": [
    {
     "data": {
      "text/plain": [
       "(1246, 2)"
      ]
     },
     "execution_count": 45,
     "metadata": {},
     "output_type": "execute_result"
    }
   ],
   "source": [
    "spa.shape"
   ]
  },
  {
   "cell_type": "code",
   "execution_count": 46,
   "id": "16d57273",
   "metadata": {},
   "outputs": [
    {
     "name": "stderr",
     "output_type": "stream",
     "text": [
      "/Users/talitacoll/opt/anaconda3/lib/python3.8/site-packages/pandas/core/generic.py:5516: SettingWithCopyWarning: \n",
      "A value is trying to be set on a copy of a slice from a DataFrame.\n",
      "Try using .loc[row_indexer,col_indexer] = value instead\n",
      "\n",
      "See the caveats in the documentation: https://pandas.pydata.org/pandas-docs/stable/user_guide/indexing.html#returning-a-view-versus-a-copy\n",
      "  self[name] = value\n"
     ]
    }
   ],
   "source": [
    "dfspa.id = dfspa.id.map(spa.set_index('id')['cid'])"
   ]
  },
  {
   "cell_type": "code",
   "execution_count": 47,
   "id": "6581c20a",
   "metadata": {},
   "outputs": [
    {
     "data": {
      "text/html": [
       "<div>\n",
       "<style scoped>\n",
       "    .dataframe tbody tr th:only-of-type {\n",
       "        vertical-align: middle;\n",
       "    }\n",
       "\n",
       "    .dataframe tbody tr th {\n",
       "        vertical-align: top;\n",
       "    }\n",
       "\n",
       "    .dataframe thead th {\n",
       "        text-align: right;\n",
       "    }\n",
       "</style>\n",
       "<table border=\"1\" class=\"dataframe\">\n",
       "  <thead>\n",
       "    <tr style=\"text-align: right;\">\n",
       "      <th></th>\n",
       "      <th>id</th>\n",
       "      <th>doc_type</th>\n",
       "      <th>transaction_date</th>\n",
       "      <th>order_type</th>\n",
       "      <th>order_date</th>\n",
       "      <th>quantity</th>\n",
       "      <th>unit_cost</th>\n",
       "      <th>extended_cost</th>\n",
       "      <th>item_type</th>\n",
       "    </tr>\n",
       "  </thead>\n",
       "  <tbody>\n",
       "    <tr>\n",
       "      <th>218873</th>\n",
       "      <td>S057AF4F3</td>\n",
       "      <td>D1</td>\n",
       "      <td>2021-01-19</td>\n",
       "      <td>U1</td>\n",
       "      <td>2021-01-13</td>\n",
       "      <td>1</td>\n",
       "      <td>1.24</td>\n",
       "      <td>1.24</td>\n",
       "      <td>SPA</td>\n",
       "    </tr>\n",
       "    <tr>\n",
       "      <th>52007</th>\n",
       "      <td>S02FB42EB</td>\n",
       "      <td>D1</td>\n",
       "      <td>2018-03-09</td>\n",
       "      <td>U1</td>\n",
       "      <td>2018-02-22</td>\n",
       "      <td>1</td>\n",
       "      <td>144.45</td>\n",
       "      <td>144.45</td>\n",
       "      <td>SPA</td>\n",
       "    </tr>\n",
       "    <tr>\n",
       "      <th>61961</th>\n",
       "      <td>S05B86751</td>\n",
       "      <td>D1</td>\n",
       "      <td>2018-06-16</td>\n",
       "      <td>U1</td>\n",
       "      <td>2018-06-09</td>\n",
       "      <td>1</td>\n",
       "      <td>699.21</td>\n",
       "      <td>699.21</td>\n",
       "      <td>SPA</td>\n",
       "    </tr>\n",
       "    <tr>\n",
       "      <th>147623</th>\n",
       "      <td>S01419C73</td>\n",
       "      <td>D1</td>\n",
       "      <td>2019-12-05</td>\n",
       "      <td>U1</td>\n",
       "      <td>2019-12-02</td>\n",
       "      <td>3</td>\n",
       "      <td>80.87</td>\n",
       "      <td>242.61</td>\n",
       "      <td>SPA</td>\n",
       "    </tr>\n",
       "    <tr>\n",
       "      <th>138446</th>\n",
       "      <td>S04FBE91A</td>\n",
       "      <td>D1</td>\n",
       "      <td>2019-09-30</td>\n",
       "      <td>U1</td>\n",
       "      <td>2019-09-05</td>\n",
       "      <td>1</td>\n",
       "      <td>13.43</td>\n",
       "      <td>13.43</td>\n",
       "      <td>SPA</td>\n",
       "    </tr>\n",
       "  </tbody>\n",
       "</table>\n",
       "</div>"
      ],
      "text/plain": [
       "               id doc_type transaction_date order_type order_date  quantity  \\\n",
       "218873  S057AF4F3       D1       2021-01-19         U1 2021-01-13         1   \n",
       "52007   S02FB42EB       D1       2018-03-09         U1 2018-02-22         1   \n",
       "61961   S05B86751       D1       2018-06-16         U1 2018-06-09         1   \n",
       "147623  S01419C73       D1       2019-12-05         U1 2019-12-02         3   \n",
       "138446  S04FBE91A       D1       2019-09-30         U1 2019-09-05         1   \n",
       "\n",
       "        unit_cost  extended_cost item_type  \n",
       "218873       1.24           1.24       SPA  \n",
       "52007      144.45         144.45       SPA  \n",
       "61961      699.21         699.21       SPA  \n",
       "147623      80.87         242.61       SPA  \n",
       "138446      13.43          13.43       SPA  "
      ]
     },
     "execution_count": 47,
     "metadata": {},
     "output_type": "execute_result"
    }
   ],
   "source": [
    "dfspa.sample(5)"
   ]
  },
  {
   "cell_type": "code",
   "execution_count": 48,
   "id": "0412c78f",
   "metadata": {},
   "outputs": [],
   "source": [
    "mod1 = pd.DataFrame(dfmod.id.drop_duplicates()).reset_index()\n",
    "mod = pd.concat([mod1.id,mdf.cid],axis=1)"
   ]
  },
  {
   "cell_type": "code",
   "execution_count": 49,
   "id": "0e2a5b38",
   "metadata": {},
   "outputs": [
    {
     "name": "stderr",
     "output_type": "stream",
     "text": [
      "/Users/talitacoll/opt/anaconda3/lib/python3.8/site-packages/pandas/core/generic.py:5516: SettingWithCopyWarning: \n",
      "A value is trying to be set on a copy of a slice from a DataFrame.\n",
      "Try using .loc[row_indexer,col_indexer] = value instead\n",
      "\n",
      "See the caveats in the documentation: https://pandas.pydata.org/pandas-docs/stable/user_guide/indexing.html#returning-a-view-versus-a-copy\n",
      "  self[name] = value\n"
     ]
    }
   ],
   "source": [
    "dfmod.id = dfmod.id.map(mod.set_index('id')['cid'])"
   ]
  },
  {
   "cell_type": "code",
   "execution_count": 50,
   "id": "2cc890d6",
   "metadata": {},
   "outputs": [
    {
     "data": {
      "text/html": [
       "<div>\n",
       "<style scoped>\n",
       "    .dataframe tbody tr th:only-of-type {\n",
       "        vertical-align: middle;\n",
       "    }\n",
       "\n",
       "    .dataframe tbody tr th {\n",
       "        vertical-align: top;\n",
       "    }\n",
       "\n",
       "    .dataframe thead th {\n",
       "        text-align: right;\n",
       "    }\n",
       "</style>\n",
       "<table border=\"1\" class=\"dataframe\">\n",
       "  <thead>\n",
       "    <tr style=\"text-align: right;\">\n",
       "      <th></th>\n",
       "      <th>id</th>\n",
       "      <th>doc_type</th>\n",
       "      <th>transaction_date</th>\n",
       "      <th>order_type</th>\n",
       "      <th>order_date</th>\n",
       "      <th>quantity</th>\n",
       "      <th>unit_cost</th>\n",
       "      <th>extended_cost</th>\n",
       "      <th>item_type</th>\n",
       "    </tr>\n",
       "  </thead>\n",
       "  <tbody>\n",
       "    <tr>\n",
       "      <th>75712</th>\n",
       "      <td>M0718B8</td>\n",
       "      <td>D1</td>\n",
       "      <td>2018-07-22</td>\n",
       "      <td>U1</td>\n",
       "      <td>2018-07-12</td>\n",
       "      <td>1</td>\n",
       "      <td>58.0000</td>\n",
       "      <td>58.00</td>\n",
       "      <td>MOD</td>\n",
       "    </tr>\n",
       "    <tr>\n",
       "      <th>103395</th>\n",
       "      <td>M0203DB</td>\n",
       "      <td>D1</td>\n",
       "      <td>2019-02-16</td>\n",
       "      <td>U1</td>\n",
       "      <td>2019-02-06</td>\n",
       "      <td>1</td>\n",
       "      <td>60.3600</td>\n",
       "      <td>60.36</td>\n",
       "      <td>MOD</td>\n",
       "    </tr>\n",
       "    <tr>\n",
       "      <th>110413</th>\n",
       "      <td>M0E472F</td>\n",
       "      <td>D1</td>\n",
       "      <td>2019-04-09</td>\n",
       "      <td>U1</td>\n",
       "      <td>2019-03-12</td>\n",
       "      <td>1</td>\n",
       "      <td>832.1300</td>\n",
       "      <td>832.13</td>\n",
       "      <td>MOD</td>\n",
       "    </tr>\n",
       "    <tr>\n",
       "      <th>168723</th>\n",
       "      <td>M08C25C</td>\n",
       "      <td>D1</td>\n",
       "      <td>2020-03-31</td>\n",
       "      <td>U1</td>\n",
       "      <td>2020-03-26</td>\n",
       "      <td>1</td>\n",
       "      <td>225.4200</td>\n",
       "      <td>225.42</td>\n",
       "      <td>MOD</td>\n",
       "    </tr>\n",
       "    <tr>\n",
       "      <th>259189</th>\n",
       "      <td>M06BCE6</td>\n",
       "      <td>D1</td>\n",
       "      <td>2021-07-12</td>\n",
       "      <td>U3</td>\n",
       "      <td>2021-07-07</td>\n",
       "      <td>1</td>\n",
       "      <td>307.7378</td>\n",
       "      <td>307.74</td>\n",
       "      <td>MOD</td>\n",
       "    </tr>\n",
       "  </tbody>\n",
       "</table>\n",
       "</div>"
      ],
      "text/plain": [
       "             id doc_type transaction_date order_type order_date  quantity  \\\n",
       "75712   M0718B8       D1       2018-07-22         U1 2018-07-12         1   \n",
       "103395  M0203DB       D1       2019-02-16         U1 2019-02-06         1   \n",
       "110413  M0E472F       D1       2019-04-09         U1 2019-03-12         1   \n",
       "168723  M08C25C       D1       2020-03-31         U1 2020-03-26         1   \n",
       "259189  M06BCE6       D1       2021-07-12         U3 2021-07-07         1   \n",
       "\n",
       "        unit_cost  extended_cost item_type  \n",
       "75712     58.0000          58.00       MOD  \n",
       "103395    60.3600          60.36       MOD  \n",
       "110413   832.1300         832.13       MOD  \n",
       "168723   225.4200         225.42       MOD  \n",
       "259189   307.7378         307.74       MOD  "
      ]
     },
     "execution_count": 50,
     "metadata": {},
     "output_type": "execute_result"
    }
   ],
   "source": [
    "dfmod.sample(5)"
   ]
  },
  {
   "cell_type": "code",
   "execution_count": 51,
   "id": "d393421e",
   "metadata": {},
   "outputs": [],
   "source": [
    "components = idf['cid'].tolist()"
   ]
  },
  {
   "cell_type": "code",
   "execution_count": 90,
   "id": "1d45d7d0",
   "metadata": {},
   "outputs": [],
   "source": [
    "#Create the Bill of Material for products using modules and spares as components\n",
    "bom = {}\n",
    "for i in pdf.id:\n",
    "    for j in idf.cid:\n",
    "        bom[i] = random.choices(components,k=random.randint(2,25))"
   ]
  },
  {
   "cell_type": "code",
   "execution_count": 53,
   "id": "260afff1",
   "metadata": {},
   "outputs": [],
   "source": [
    "df = pd.concat([dfspa,dfmod])"
   ]
  },
  {
   "cell_type": "code",
   "execution_count": 54,
   "id": "a34bf645",
   "metadata": {},
   "outputs": [
    {
     "data": {
      "text/html": [
       "<div>\n",
       "<style scoped>\n",
       "    .dataframe tbody tr th:only-of-type {\n",
       "        vertical-align: middle;\n",
       "    }\n",
       "\n",
       "    .dataframe tbody tr th {\n",
       "        vertical-align: top;\n",
       "    }\n",
       "\n",
       "    .dataframe thead th {\n",
       "        text-align: right;\n",
       "    }\n",
       "</style>\n",
       "<table border=\"1\" class=\"dataframe\">\n",
       "  <thead>\n",
       "    <tr style=\"text-align: right;\">\n",
       "      <th></th>\n",
       "      <th>id</th>\n",
       "      <th>doc_type</th>\n",
       "      <th>transaction_date</th>\n",
       "      <th>order_type</th>\n",
       "      <th>order_date</th>\n",
       "      <th>quantity</th>\n",
       "      <th>unit_cost</th>\n",
       "      <th>extended_cost</th>\n",
       "      <th>item_type</th>\n",
       "    </tr>\n",
       "  </thead>\n",
       "  <tbody>\n",
       "    <tr>\n",
       "      <th>21525</th>\n",
       "      <td>S031B79EA</td>\n",
       "      <td>D1</td>\n",
       "      <td>2017-11-27</td>\n",
       "      <td>U1</td>\n",
       "      <td>2017-10-28</td>\n",
       "      <td>2</td>\n",
       "      <td>2.9800</td>\n",
       "      <td>5.96</td>\n",
       "      <td>SPA</td>\n",
       "    </tr>\n",
       "    <tr>\n",
       "      <th>21570</th>\n",
       "      <td>S030F5A8F</td>\n",
       "      <td>D1</td>\n",
       "      <td>2017-12-03</td>\n",
       "      <td>U1</td>\n",
       "      <td>2017-10-29</td>\n",
       "      <td>1</td>\n",
       "      <td>29.8400</td>\n",
       "      <td>29.84</td>\n",
       "      <td>SPA</td>\n",
       "    </tr>\n",
       "    <tr>\n",
       "      <th>21571</th>\n",
       "      <td>M0B5DB4</td>\n",
       "      <td>D1</td>\n",
       "      <td>2017-11-25</td>\n",
       "      <td>U1</td>\n",
       "      <td>2017-11-01</td>\n",
       "      <td>1</td>\n",
       "      <td>49.9400</td>\n",
       "      <td>49.94</td>\n",
       "      <td>MOD</td>\n",
       "    </tr>\n",
       "    <tr>\n",
       "      <th>21590</th>\n",
       "      <td>S0322692D</td>\n",
       "      <td>D1</td>\n",
       "      <td>2017-12-17</td>\n",
       "      <td>U1</td>\n",
       "      <td>2017-11-12</td>\n",
       "      <td>2</td>\n",
       "      <td>18.7300</td>\n",
       "      <td>37.46</td>\n",
       "      <td>SPA</td>\n",
       "    </tr>\n",
       "    <tr>\n",
       "      <th>21591</th>\n",
       "      <td>S04164E76</td>\n",
       "      <td>D1</td>\n",
       "      <td>2017-12-14</td>\n",
       "      <td>U1</td>\n",
       "      <td>2017-11-28</td>\n",
       "      <td>2</td>\n",
       "      <td>2.4300</td>\n",
       "      <td>4.86</td>\n",
       "      <td>SPA</td>\n",
       "    </tr>\n",
       "    <tr>\n",
       "      <th>...</th>\n",
       "      <td>...</td>\n",
       "      <td>...</td>\n",
       "      <td>...</td>\n",
       "      <td>...</td>\n",
       "      <td>...</td>\n",
       "      <td>...</td>\n",
       "      <td>...</td>\n",
       "      <td>...</td>\n",
       "      <td>...</td>\n",
       "    </tr>\n",
       "    <tr>\n",
       "      <th>284394</th>\n",
       "      <td>M05E910</td>\n",
       "      <td>D1</td>\n",
       "      <td>2017-12-15</td>\n",
       "      <td>U1</td>\n",
       "      <td>2017-12-08</td>\n",
       "      <td>1</td>\n",
       "      <td>24.6200</td>\n",
       "      <td>24.62</td>\n",
       "      <td>MOD</td>\n",
       "    </tr>\n",
       "    <tr>\n",
       "      <th>284395</th>\n",
       "      <td>M05E910</td>\n",
       "      <td>D1</td>\n",
       "      <td>2017-12-13</td>\n",
       "      <td>U1</td>\n",
       "      <td>2017-12-06</td>\n",
       "      <td>1</td>\n",
       "      <td>24.6200</td>\n",
       "      <td>24.62</td>\n",
       "      <td>MOD</td>\n",
       "    </tr>\n",
       "    <tr>\n",
       "      <th>284396</th>\n",
       "      <td>S0065CACD</td>\n",
       "      <td>D1</td>\n",
       "      <td>2021-12-23</td>\n",
       "      <td>U1</td>\n",
       "      <td>2021-11-20</td>\n",
       "      <td>1</td>\n",
       "      <td>51.0400</td>\n",
       "      <td>51.04</td>\n",
       "      <td>SPA</td>\n",
       "    </tr>\n",
       "    <tr>\n",
       "      <th>284397</th>\n",
       "      <td>M0E779F</td>\n",
       "      <td>D1</td>\n",
       "      <td>2021-12-17</td>\n",
       "      <td>U1</td>\n",
       "      <td>2021-11-19</td>\n",
       "      <td>1</td>\n",
       "      <td>440.0000</td>\n",
       "      <td>440.00</td>\n",
       "      <td>MOD</td>\n",
       "    </tr>\n",
       "    <tr>\n",
       "      <th>284398</th>\n",
       "      <td>S04BA34B7</td>\n",
       "      <td>D1</td>\n",
       "      <td>2021-12-27</td>\n",
       "      <td>U1</td>\n",
       "      <td>2021-11-24</td>\n",
       "      <td>1</td>\n",
       "      <td>334.4906</td>\n",
       "      <td>334.49</td>\n",
       "      <td>SPA</td>\n",
       "    </tr>\n",
       "  </tbody>\n",
       "</table>\n",
       "<p>47798 rows × 9 columns</p>\n",
       "</div>"
      ],
      "text/plain": [
       "               id doc_type transaction_date order_type order_date  quantity  \\\n",
       "21525   S031B79EA       D1       2017-11-27         U1 2017-10-28         2   \n",
       "21570   S030F5A8F       D1       2017-12-03         U1 2017-10-29         1   \n",
       "21571     M0B5DB4       D1       2017-11-25         U1 2017-11-01         1   \n",
       "21590   S0322692D       D1       2017-12-17         U1 2017-11-12         2   \n",
       "21591   S04164E76       D1       2017-12-14         U1 2017-11-28         2   \n",
       "...           ...      ...              ...        ...        ...       ...   \n",
       "284394    M05E910       D1       2017-12-15         U1 2017-12-08         1   \n",
       "284395    M05E910       D1       2017-12-13         U1 2017-12-06         1   \n",
       "284396  S0065CACD       D1       2021-12-23         U1 2021-11-20         1   \n",
       "284397    M0E779F       D1       2021-12-17         U1 2021-11-19         1   \n",
       "284398  S04BA34B7       D1       2021-12-27         U1 2021-11-24         1   \n",
       "\n",
       "        unit_cost  extended_cost item_type  \n",
       "21525      2.9800           5.96       SPA  \n",
       "21570     29.8400          29.84       SPA  \n",
       "21571     49.9400          49.94       MOD  \n",
       "21590     18.7300          37.46       SPA  \n",
       "21591      2.4300           4.86       SPA  \n",
       "...           ...            ...       ...  \n",
       "284394    24.6200          24.62       MOD  \n",
       "284395    24.6200          24.62       MOD  \n",
       "284396    51.0400          51.04       SPA  \n",
       "284397   440.0000         440.00       MOD  \n",
       "284398   334.4906         334.49       SPA  \n",
       "\n",
       "[47798 rows x 9 columns]"
      ]
     },
     "execution_count": 54,
     "metadata": {},
     "output_type": "execute_result"
    }
   ],
   "source": [
    "df.sort_index()"
   ]
  },
  {
   "cell_type": "code",
   "execution_count": 55,
   "id": "a46f794a",
   "metadata": {},
   "outputs": [
    {
     "data": {
      "text/html": [
       "<div>\n",
       "<style scoped>\n",
       "    .dataframe tbody tr th:only-of-type {\n",
       "        vertical-align: middle;\n",
       "    }\n",
       "\n",
       "    .dataframe tbody tr th {\n",
       "        vertical-align: top;\n",
       "    }\n",
       "\n",
       "    .dataframe thead th {\n",
       "        text-align: right;\n",
       "    }\n",
       "</style>\n",
       "<table border=\"1\" class=\"dataframe\">\n",
       "  <thead>\n",
       "    <tr style=\"text-align: right;\">\n",
       "      <th></th>\n",
       "      <th>serial_id</th>\n",
       "      <th>product_id</th>\n",
       "      <th>customer_id</th>\n",
       "      <th>install_date</th>\n",
       "    </tr>\n",
       "  </thead>\n",
       "  <tbody>\n",
       "    <tr>\n",
       "      <th>0</th>\n",
       "      <td>SN0000001</td>\n",
       "      <td>P1643B</td>\n",
       "      <td>CS0000149</td>\n",
       "      <td>2015-01-21</td>\n",
       "    </tr>\n",
       "    <tr>\n",
       "      <th>1</th>\n",
       "      <td>SN0000002</td>\n",
       "      <td>P12FF3</td>\n",
       "      <td>CS0000098</td>\n",
       "      <td>2016-02-26</td>\n",
       "    </tr>\n",
       "    <tr>\n",
       "      <th>2</th>\n",
       "      <td>SN0000003</td>\n",
       "      <td>PA2E9</td>\n",
       "      <td>CS0000096</td>\n",
       "      <td>2017-04-16</td>\n",
       "    </tr>\n",
       "    <tr>\n",
       "      <th>3</th>\n",
       "      <td>SN0000004</td>\n",
       "      <td>PFE6E</td>\n",
       "      <td>CS0000153</td>\n",
       "      <td>2017-03-28</td>\n",
       "    </tr>\n",
       "    <tr>\n",
       "      <th>4</th>\n",
       "      <td>SN0000005</td>\n",
       "      <td>PC7D9</td>\n",
       "      <td>CS0000052</td>\n",
       "      <td>2014-04-15</td>\n",
       "    </tr>\n",
       "  </tbody>\n",
       "</table>\n",
       "</div>"
      ],
      "text/plain": [
       "   serial_id product_id customer_id install_date\n",
       "0  SN0000001     P1643B   CS0000149   2015-01-21\n",
       "1  SN0000002     P12FF3   CS0000098   2016-02-26\n",
       "2  SN0000003      PA2E9   CS0000096   2017-04-16\n",
       "3  SN0000004      PFE6E   CS0000153   2017-03-28\n",
       "4  SN0000005      PC7D9   CS0000052   2014-04-15"
      ]
     },
     "execution_count": 55,
     "metadata": {},
     "output_type": "execute_result"
    }
   ],
   "source": [
    "ibdf.head()"
   ]
  },
  {
   "cell_type": "code",
   "execution_count": 56,
   "id": "9d6de6e7",
   "metadata": {},
   "outputs": [],
   "source": [
    "# This code will definy each product belongs the record, according to BOM\n",
    "for i in df.id:\n",
    "    for k, v in bom.items():\n",
    "        if i in v:\n",
    "            product_id = pd.Series(random.choices(list(bom.keys()),k=len(df)),name='product_id')"
   ]
  },
  {
   "cell_type": "code",
   "execution_count": 57,
   "id": "eb78007f",
   "metadata": {},
   "outputs": [],
   "source": [
    "df = pd.concat([df.reset_index(drop=False),product_id.reset_index(drop=True)],axis=1)"
   ]
  },
  {
   "cell_type": "code",
   "execution_count": 58,
   "id": "c5d71c28",
   "metadata": {},
   "outputs": [],
   "source": [
    "df.set_index('index',inplace=True)"
   ]
  },
  {
   "cell_type": "code",
   "execution_count": 59,
   "id": "2b4986d4",
   "metadata": {},
   "outputs": [
    {
     "data": {
      "text/html": [
       "<div>\n",
       "<style scoped>\n",
       "    .dataframe tbody tr th:only-of-type {\n",
       "        vertical-align: middle;\n",
       "    }\n",
       "\n",
       "    .dataframe tbody tr th {\n",
       "        vertical-align: top;\n",
       "    }\n",
       "\n",
       "    .dataframe thead th {\n",
       "        text-align: right;\n",
       "    }\n",
       "</style>\n",
       "<table border=\"1\" class=\"dataframe\">\n",
       "  <thead>\n",
       "    <tr style=\"text-align: right;\">\n",
       "      <th></th>\n",
       "      <th>id</th>\n",
       "      <th>doc_type</th>\n",
       "      <th>transaction_date</th>\n",
       "      <th>order_type</th>\n",
       "      <th>order_date</th>\n",
       "      <th>quantity</th>\n",
       "      <th>unit_cost</th>\n",
       "      <th>extended_cost</th>\n",
       "      <th>item_type</th>\n",
       "      <th>product_id</th>\n",
       "    </tr>\n",
       "    <tr>\n",
       "      <th>index</th>\n",
       "      <th></th>\n",
       "      <th></th>\n",
       "      <th></th>\n",
       "      <th></th>\n",
       "      <th></th>\n",
       "      <th></th>\n",
       "      <th></th>\n",
       "      <th></th>\n",
       "      <th></th>\n",
       "      <th></th>\n",
       "    </tr>\n",
       "  </thead>\n",
       "  <tbody>\n",
       "    <tr>\n",
       "      <th>21525</th>\n",
       "      <td>S031B79EA</td>\n",
       "      <td>D1</td>\n",
       "      <td>2017-11-27</td>\n",
       "      <td>U1</td>\n",
       "      <td>2017-10-28</td>\n",
       "      <td>2</td>\n",
       "      <td>2.98</td>\n",
       "      <td>5.96</td>\n",
       "      <td>SPA</td>\n",
       "      <td>P146F0</td>\n",
       "    </tr>\n",
       "    <tr>\n",
       "      <th>21570</th>\n",
       "      <td>S030F5A8F</td>\n",
       "      <td>D1</td>\n",
       "      <td>2017-12-03</td>\n",
       "      <td>U1</td>\n",
       "      <td>2017-10-29</td>\n",
       "      <td>1</td>\n",
       "      <td>29.84</td>\n",
       "      <td>29.84</td>\n",
       "      <td>SPA</td>\n",
       "      <td>P146F0</td>\n",
       "    </tr>\n",
       "    <tr>\n",
       "      <th>21590</th>\n",
       "      <td>S0322692D</td>\n",
       "      <td>D1</td>\n",
       "      <td>2017-12-17</td>\n",
       "      <td>U1</td>\n",
       "      <td>2017-11-12</td>\n",
       "      <td>2</td>\n",
       "      <td>18.73</td>\n",
       "      <td>37.46</td>\n",
       "      <td>SPA</td>\n",
       "      <td>P1156</td>\n",
       "    </tr>\n",
       "    <tr>\n",
       "      <th>21591</th>\n",
       "      <td>S04164E76</td>\n",
       "      <td>D1</td>\n",
       "      <td>2017-12-14</td>\n",
       "      <td>U1</td>\n",
       "      <td>2017-11-28</td>\n",
       "      <td>2</td>\n",
       "      <td>2.43</td>\n",
       "      <td>4.86</td>\n",
       "      <td>SPA</td>\n",
       "      <td>P144B5</td>\n",
       "    </tr>\n",
       "    <tr>\n",
       "      <th>21592</th>\n",
       "      <td>S04ECF605</td>\n",
       "      <td>D1</td>\n",
       "      <td>2021-12-15</td>\n",
       "      <td>U1</td>\n",
       "      <td>2021-12-11</td>\n",
       "      <td>2</td>\n",
       "      <td>1.31</td>\n",
       "      <td>2.62</td>\n",
       "      <td>SPA</td>\n",
       "      <td>P144B5</td>\n",
       "    </tr>\n",
       "  </tbody>\n",
       "</table>\n",
       "</div>"
      ],
      "text/plain": [
       "              id doc_type transaction_date order_type order_date  quantity  \\\n",
       "index                                                                        \n",
       "21525  S031B79EA       D1       2017-11-27         U1 2017-10-28         2   \n",
       "21570  S030F5A8F       D1       2017-12-03         U1 2017-10-29         1   \n",
       "21590  S0322692D       D1       2017-12-17         U1 2017-11-12         2   \n",
       "21591  S04164E76       D1       2017-12-14         U1 2017-11-28         2   \n",
       "21592  S04ECF605       D1       2021-12-15         U1 2021-12-11         2   \n",
       "\n",
       "       unit_cost  extended_cost item_type product_id  \n",
       "index                                                 \n",
       "21525       2.98           5.96       SPA     P146F0  \n",
       "21570      29.84          29.84       SPA     P146F0  \n",
       "21590      18.73          37.46       SPA      P1156  \n",
       "21591       2.43           4.86       SPA     P144B5  \n",
       "21592       1.31           2.62       SPA     P144B5  "
      ]
     },
     "execution_count": 59,
     "metadata": {},
     "output_type": "execute_result"
    }
   ],
   "source": [
    "df.head()"
   ]
  },
  {
   "cell_type": "code",
   "execution_count": 60,
   "id": "fb82aad6",
   "metadata": {},
   "outputs": [],
   "source": [
    "serial = ibdf[['product_id','serial_id']]"
   ]
  },
  {
   "cell_type": "code",
   "execution_count": 61,
   "id": "c185f233",
   "metadata": {},
   "outputs": [],
   "source": [
    "serial = serial.groupby('product_id')['serial_id'].apply(list).to_dict()"
   ]
  },
  {
   "cell_type": "code",
   "execution_count": 63,
   "id": "8d10416f",
   "metadata": {},
   "outputs": [
    {
     "data": {
      "text/plain": [
       "45"
      ]
     },
     "execution_count": 63,
     "metadata": {},
     "output_type": "execute_result"
    }
   ],
   "source": [
    "len(serial.values())"
   ]
  },
  {
   "cell_type": "code",
   "execution_count": 64,
   "id": "54197eff",
   "metadata": {},
   "outputs": [],
   "source": [
    "# This code will definy each product belongs the record, according to BOM\n",
    "for i in df.product_id:\n",
    "    for k, v in serial.items():\n",
    "        if i in k:\n",
    "            serial_id = pd.Series(random.choices(list(serial.values())[1],k=len(df)),name='serial_id')"
   ]
  },
  {
   "cell_type": "code",
   "execution_count": 65,
   "id": "aad9034c",
   "metadata": {},
   "outputs": [
    {
     "data": {
      "text/plain": [
       "47798"
      ]
     },
     "execution_count": 65,
     "metadata": {},
     "output_type": "execute_result"
    }
   ],
   "source": [
    "len(serial_id)"
   ]
  },
  {
   "cell_type": "code",
   "execution_count": 66,
   "id": "fe2a840c",
   "metadata": {},
   "outputs": [],
   "source": [
    "df = pd.concat([df.reset_index(drop=False),serial_id.reset_index(drop=True)],axis=1)"
   ]
  },
  {
   "cell_type": "code",
   "execution_count": 67,
   "id": "b63020a3",
   "metadata": {},
   "outputs": [
    {
     "data": {
      "text/html": [
       "<div>\n",
       "<style scoped>\n",
       "    .dataframe tbody tr th:only-of-type {\n",
       "        vertical-align: middle;\n",
       "    }\n",
       "\n",
       "    .dataframe tbody tr th {\n",
       "        vertical-align: top;\n",
       "    }\n",
       "\n",
       "    .dataframe thead th {\n",
       "        text-align: right;\n",
       "    }\n",
       "</style>\n",
       "<table border=\"1\" class=\"dataframe\">\n",
       "  <thead>\n",
       "    <tr style=\"text-align: right;\">\n",
       "      <th></th>\n",
       "      <th>index</th>\n",
       "      <th>id</th>\n",
       "      <th>doc_type</th>\n",
       "      <th>transaction_date</th>\n",
       "      <th>order_type</th>\n",
       "      <th>order_date</th>\n",
       "      <th>quantity</th>\n",
       "      <th>unit_cost</th>\n",
       "      <th>extended_cost</th>\n",
       "      <th>item_type</th>\n",
       "      <th>product_id</th>\n",
       "      <th>serial_id</th>\n",
       "    </tr>\n",
       "  </thead>\n",
       "  <tbody>\n",
       "    <tr>\n",
       "      <th>0</th>\n",
       "      <td>21525</td>\n",
       "      <td>S031B79EA</td>\n",
       "      <td>D1</td>\n",
       "      <td>2017-11-27</td>\n",
       "      <td>U1</td>\n",
       "      <td>2017-10-28</td>\n",
       "      <td>2</td>\n",
       "      <td>2.98</td>\n",
       "      <td>5.96</td>\n",
       "      <td>SPA</td>\n",
       "      <td>P146F0</td>\n",
       "      <td>SN0003867</td>\n",
       "    </tr>\n",
       "    <tr>\n",
       "      <th>1</th>\n",
       "      <td>21570</td>\n",
       "      <td>S030F5A8F</td>\n",
       "      <td>D1</td>\n",
       "      <td>2017-12-03</td>\n",
       "      <td>U1</td>\n",
       "      <td>2017-10-29</td>\n",
       "      <td>1</td>\n",
       "      <td>29.84</td>\n",
       "      <td>29.84</td>\n",
       "      <td>SPA</td>\n",
       "      <td>P146F0</td>\n",
       "      <td>SN0004990</td>\n",
       "    </tr>\n",
       "    <tr>\n",
       "      <th>2</th>\n",
       "      <td>21590</td>\n",
       "      <td>S0322692D</td>\n",
       "      <td>D1</td>\n",
       "      <td>2017-12-17</td>\n",
       "      <td>U1</td>\n",
       "      <td>2017-11-12</td>\n",
       "      <td>2</td>\n",
       "      <td>18.73</td>\n",
       "      <td>37.46</td>\n",
       "      <td>SPA</td>\n",
       "      <td>P1156</td>\n",
       "      <td>SN0006929</td>\n",
       "    </tr>\n",
       "    <tr>\n",
       "      <th>3</th>\n",
       "      <td>21591</td>\n",
       "      <td>S04164E76</td>\n",
       "      <td>D1</td>\n",
       "      <td>2017-12-14</td>\n",
       "      <td>U1</td>\n",
       "      <td>2017-11-28</td>\n",
       "      <td>2</td>\n",
       "      <td>2.43</td>\n",
       "      <td>4.86</td>\n",
       "      <td>SPA</td>\n",
       "      <td>P144B5</td>\n",
       "      <td>SN0000202</td>\n",
       "    </tr>\n",
       "    <tr>\n",
       "      <th>4</th>\n",
       "      <td>21592</td>\n",
       "      <td>S04ECF605</td>\n",
       "      <td>D1</td>\n",
       "      <td>2021-12-15</td>\n",
       "      <td>U1</td>\n",
       "      <td>2021-12-11</td>\n",
       "      <td>2</td>\n",
       "      <td>1.31</td>\n",
       "      <td>2.62</td>\n",
       "      <td>SPA</td>\n",
       "      <td>P144B5</td>\n",
       "      <td>SN0000928</td>\n",
       "    </tr>\n",
       "  </tbody>\n",
       "</table>\n",
       "</div>"
      ],
      "text/plain": [
       "   index         id doc_type transaction_date order_type order_date  quantity  \\\n",
       "0  21525  S031B79EA       D1       2017-11-27         U1 2017-10-28         2   \n",
       "1  21570  S030F5A8F       D1       2017-12-03         U1 2017-10-29         1   \n",
       "2  21590  S0322692D       D1       2017-12-17         U1 2017-11-12         2   \n",
       "3  21591  S04164E76       D1       2017-12-14         U1 2017-11-28         2   \n",
       "4  21592  S04ECF605       D1       2021-12-15         U1 2021-12-11         2   \n",
       "\n",
       "   unit_cost  extended_cost item_type product_id  serial_id  \n",
       "0       2.98           5.96       SPA     P146F0  SN0003867  \n",
       "1      29.84          29.84       SPA     P146F0  SN0004990  \n",
       "2      18.73          37.46       SPA      P1156  SN0006929  \n",
       "3       2.43           4.86       SPA     P144B5  SN0000202  \n",
       "4       1.31           2.62       SPA     P144B5  SN0000928  "
      ]
     },
     "execution_count": 67,
     "metadata": {},
     "output_type": "execute_result"
    }
   ],
   "source": [
    "df.head()"
   ]
  },
  {
   "cell_type": "code",
   "execution_count": 68,
   "id": "57c7a444",
   "metadata": {},
   "outputs": [],
   "source": [
    "df = df.set_index('index')"
   ]
  },
  {
   "cell_type": "code",
   "execution_count": 69,
   "id": "55cbd584",
   "metadata": {},
   "outputs": [],
   "source": [
    "df['install_date'] = df.serial_id.map(ibdf.set_index('serial_id')['install_date'])"
   ]
  },
  {
   "cell_type": "code",
   "execution_count": 70,
   "id": "e3d48a4d",
   "metadata": {},
   "outputs": [],
   "source": [
    "#Calculate the gae of product in the moment of ticket\n",
    "df['product_age']=df['order_date'] - df['install_date']\n",
    "df['product_age']=df['product_age']/np.timedelta64(1,'D')"
   ]
  },
  {
   "cell_type": "code",
   "execution_count": 71,
   "id": "a1de2f49",
   "metadata": {},
   "outputs": [
    {
     "data": {
      "text/html": [
       "<div>\n",
       "<style scoped>\n",
       "    .dataframe tbody tr th:only-of-type {\n",
       "        vertical-align: middle;\n",
       "    }\n",
       "\n",
       "    .dataframe tbody tr th {\n",
       "        vertical-align: top;\n",
       "    }\n",
       "\n",
       "    .dataframe thead th {\n",
       "        text-align: right;\n",
       "    }\n",
       "</style>\n",
       "<table border=\"1\" class=\"dataframe\">\n",
       "  <thead>\n",
       "    <tr style=\"text-align: right;\">\n",
       "      <th></th>\n",
       "      <th>id</th>\n",
       "      <th>doc_type</th>\n",
       "      <th>transaction_date</th>\n",
       "      <th>order_type</th>\n",
       "      <th>order_date</th>\n",
       "      <th>quantity</th>\n",
       "      <th>unit_cost</th>\n",
       "      <th>extended_cost</th>\n",
       "      <th>item_type</th>\n",
       "      <th>product_id</th>\n",
       "      <th>serial_id</th>\n",
       "      <th>install_date</th>\n",
       "      <th>product_age</th>\n",
       "    </tr>\n",
       "    <tr>\n",
       "      <th>index</th>\n",
       "      <th></th>\n",
       "      <th></th>\n",
       "      <th></th>\n",
       "      <th></th>\n",
       "      <th></th>\n",
       "      <th></th>\n",
       "      <th></th>\n",
       "      <th></th>\n",
       "      <th></th>\n",
       "      <th></th>\n",
       "      <th></th>\n",
       "      <th></th>\n",
       "      <th></th>\n",
       "    </tr>\n",
       "  </thead>\n",
       "  <tbody>\n",
       "    <tr>\n",
       "      <th>21525</th>\n",
       "      <td>S031B79EA</td>\n",
       "      <td>D1</td>\n",
       "      <td>2017-11-27</td>\n",
       "      <td>U1</td>\n",
       "      <td>2017-10-28</td>\n",
       "      <td>2</td>\n",
       "      <td>2.98</td>\n",
       "      <td>5.96</td>\n",
       "      <td>SPA</td>\n",
       "      <td>P146F0</td>\n",
       "      <td>SN0003867</td>\n",
       "      <td>2014-06-04</td>\n",
       "      <td>1242.0</td>\n",
       "    </tr>\n",
       "    <tr>\n",
       "      <th>21570</th>\n",
       "      <td>S030F5A8F</td>\n",
       "      <td>D1</td>\n",
       "      <td>2017-12-03</td>\n",
       "      <td>U1</td>\n",
       "      <td>2017-10-29</td>\n",
       "      <td>1</td>\n",
       "      <td>29.84</td>\n",
       "      <td>29.84</td>\n",
       "      <td>SPA</td>\n",
       "      <td>P146F0</td>\n",
       "      <td>SN0004990</td>\n",
       "      <td>2014-08-03</td>\n",
       "      <td>1183.0</td>\n",
       "    </tr>\n",
       "    <tr>\n",
       "      <th>21590</th>\n",
       "      <td>S0322692D</td>\n",
       "      <td>D1</td>\n",
       "      <td>2017-12-17</td>\n",
       "      <td>U1</td>\n",
       "      <td>2017-11-12</td>\n",
       "      <td>2</td>\n",
       "      <td>18.73</td>\n",
       "      <td>37.46</td>\n",
       "      <td>SPA</td>\n",
       "      <td>P1156</td>\n",
       "      <td>SN0006929</td>\n",
       "      <td>2017-01-31</td>\n",
       "      <td>285.0</td>\n",
       "    </tr>\n",
       "    <tr>\n",
       "      <th>21591</th>\n",
       "      <td>S04164E76</td>\n",
       "      <td>D1</td>\n",
       "      <td>2017-12-14</td>\n",
       "      <td>U1</td>\n",
       "      <td>2017-11-28</td>\n",
       "      <td>2</td>\n",
       "      <td>2.43</td>\n",
       "      <td>4.86</td>\n",
       "      <td>SPA</td>\n",
       "      <td>P144B5</td>\n",
       "      <td>SN0000202</td>\n",
       "      <td>2015-04-07</td>\n",
       "      <td>966.0</td>\n",
       "    </tr>\n",
       "    <tr>\n",
       "      <th>21592</th>\n",
       "      <td>S04ECF605</td>\n",
       "      <td>D1</td>\n",
       "      <td>2021-12-15</td>\n",
       "      <td>U1</td>\n",
       "      <td>2021-12-11</td>\n",
       "      <td>2</td>\n",
       "      <td>1.31</td>\n",
       "      <td>2.62</td>\n",
       "      <td>SPA</td>\n",
       "      <td>P144B5</td>\n",
       "      <td>SN0000928</td>\n",
       "      <td>2016-01-10</td>\n",
       "      <td>2162.0</td>\n",
       "    </tr>\n",
       "  </tbody>\n",
       "</table>\n",
       "</div>"
      ],
      "text/plain": [
       "              id doc_type transaction_date order_type order_date  quantity  \\\n",
       "index                                                                        \n",
       "21525  S031B79EA       D1       2017-11-27         U1 2017-10-28         2   \n",
       "21570  S030F5A8F       D1       2017-12-03         U1 2017-10-29         1   \n",
       "21590  S0322692D       D1       2017-12-17         U1 2017-11-12         2   \n",
       "21591  S04164E76       D1       2017-12-14         U1 2017-11-28         2   \n",
       "21592  S04ECF605       D1       2021-12-15         U1 2021-12-11         2   \n",
       "\n",
       "       unit_cost  extended_cost item_type product_id  serial_id install_date  \\\n",
       "index                                                                          \n",
       "21525       2.98           5.96       SPA     P146F0  SN0003867   2014-06-04   \n",
       "21570      29.84          29.84       SPA     P146F0  SN0004990   2014-08-03   \n",
       "21590      18.73          37.46       SPA      P1156  SN0006929   2017-01-31   \n",
       "21591       2.43           4.86       SPA     P144B5  SN0000202   2015-04-07   \n",
       "21592       1.31           2.62       SPA     P144B5  SN0000928   2016-01-10   \n",
       "\n",
       "       product_age  \n",
       "index               \n",
       "21525       1242.0  \n",
       "21570       1183.0  \n",
       "21590        285.0  \n",
       "21591        966.0  \n",
       "21592       2162.0  "
      ]
     },
     "execution_count": 71,
     "metadata": {},
     "output_type": "execute_result"
    }
   ],
   "source": [
    "df.head()"
   ]
  },
  {
   "cell_type": "code",
   "execution_count": 72,
   "id": "e7d9bf13",
   "metadata": {},
   "outputs": [],
   "source": [
    "#Separate year and month from transaction date for EDA\n",
    "df['year'] = pd.DatetimeIndex(df['order_date']).year\n",
    "df['month'] = pd.DatetimeIndex(df['order_date']).month"
   ]
  },
  {
   "cell_type": "code",
   "execution_count": 73,
   "id": "7bd744de",
   "metadata": {},
   "outputs": [],
   "source": [
    "df['leadtime']=df['transaction_date'] - df['order_date']\n",
    "df['leadtime']=df['leadtime']/np.timedelta64(1,'D')"
   ]
  },
  {
   "cell_type": "code",
   "execution_count": 74,
   "id": "f2b8b05b",
   "metadata": {},
   "outputs": [],
   "source": [
    "df = df.drop(df[(df['year'] == 2017)].index)"
   ]
  },
  {
   "cell_type": "code",
   "execution_count": 75,
   "id": "606ef020",
   "metadata": {},
   "outputs": [],
   "source": [
    "df = df.drop(df[(df['year'] == 2022)].index)"
   ]
  },
  {
   "cell_type": "code",
   "execution_count": 76,
   "id": "562c04aa",
   "metadata": {},
   "outputs": [
    {
     "data": {
      "text/html": [
       "<div>\n",
       "<style scoped>\n",
       "    .dataframe tbody tr th:only-of-type {\n",
       "        vertical-align: middle;\n",
       "    }\n",
       "\n",
       "    .dataframe tbody tr th {\n",
       "        vertical-align: top;\n",
       "    }\n",
       "\n",
       "    .dataframe thead th {\n",
       "        text-align: right;\n",
       "    }\n",
       "</style>\n",
       "<table border=\"1\" class=\"dataframe\">\n",
       "  <thead>\n",
       "    <tr style=\"text-align: right;\">\n",
       "      <th></th>\n",
       "      <th>id</th>\n",
       "      <th>doc_type</th>\n",
       "      <th>transaction_date</th>\n",
       "      <th>order_type</th>\n",
       "      <th>order_date</th>\n",
       "      <th>quantity</th>\n",
       "      <th>unit_cost</th>\n",
       "      <th>extended_cost</th>\n",
       "      <th>item_type</th>\n",
       "      <th>product_id</th>\n",
       "      <th>serial_id</th>\n",
       "      <th>install_date</th>\n",
       "      <th>product_age</th>\n",
       "      <th>year</th>\n",
       "      <th>month</th>\n",
       "      <th>leadtime</th>\n",
       "    </tr>\n",
       "    <tr>\n",
       "      <th>index</th>\n",
       "      <th></th>\n",
       "      <th></th>\n",
       "      <th></th>\n",
       "      <th></th>\n",
       "      <th></th>\n",
       "      <th></th>\n",
       "      <th></th>\n",
       "      <th></th>\n",
       "      <th></th>\n",
       "      <th></th>\n",
       "      <th></th>\n",
       "      <th></th>\n",
       "      <th></th>\n",
       "      <th></th>\n",
       "      <th></th>\n",
       "      <th></th>\n",
       "    </tr>\n",
       "  </thead>\n",
       "  <tbody>\n",
       "    <tr>\n",
       "      <th>21592</th>\n",
       "      <td>S04ECF605</td>\n",
       "      <td>D1</td>\n",
       "      <td>2021-12-15</td>\n",
       "      <td>U1</td>\n",
       "      <td>2021-12-11</td>\n",
       "      <td>2</td>\n",
       "      <td>1.31</td>\n",
       "      <td>2.62</td>\n",
       "      <td>SPA</td>\n",
       "      <td>P144B5</td>\n",
       "      <td>SN0000928</td>\n",
       "      <td>2016-01-10</td>\n",
       "      <td>2162.0</td>\n",
       "      <td>2021</td>\n",
       "      <td>12</td>\n",
       "      <td>4.0</td>\n",
       "    </tr>\n",
       "    <tr>\n",
       "      <th>21593</th>\n",
       "      <td>S03D2C47C</td>\n",
       "      <td>D1</td>\n",
       "      <td>2021-12-13</td>\n",
       "      <td>U1</td>\n",
       "      <td>2021-12-02</td>\n",
       "      <td>1</td>\n",
       "      <td>2.99</td>\n",
       "      <td>2.99</td>\n",
       "      <td>SPA</td>\n",
       "      <td>P16657</td>\n",
       "      <td>SN0010734</td>\n",
       "      <td>2015-10-19</td>\n",
       "      <td>2236.0</td>\n",
       "      <td>2021</td>\n",
       "      <td>12</td>\n",
       "      <td>11.0</td>\n",
       "    </tr>\n",
       "    <tr>\n",
       "      <th>21597</th>\n",
       "      <td>S03373322</td>\n",
       "      <td>D1</td>\n",
       "      <td>2021-12-12</td>\n",
       "      <td>U1</td>\n",
       "      <td>2021-12-08</td>\n",
       "      <td>4</td>\n",
       "      <td>3.29</td>\n",
       "      <td>13.16</td>\n",
       "      <td>SPA</td>\n",
       "      <td>P16657</td>\n",
       "      <td>SN0003017</td>\n",
       "      <td>2016-08-31</td>\n",
       "      <td>1925.0</td>\n",
       "      <td>2021</td>\n",
       "      <td>12</td>\n",
       "      <td>4.0</td>\n",
       "    </tr>\n",
       "    <tr>\n",
       "      <th>22017</th>\n",
       "      <td>S038C0C8E</td>\n",
       "      <td>D1</td>\n",
       "      <td>2021-12-14</td>\n",
       "      <td>U1</td>\n",
       "      <td>2021-12-05</td>\n",
       "      <td>1</td>\n",
       "      <td>29.33</td>\n",
       "      <td>29.33</td>\n",
       "      <td>SPA</td>\n",
       "      <td>PCBE1</td>\n",
       "      <td>SN0001489</td>\n",
       "      <td>2015-12-06</td>\n",
       "      <td>2191.0</td>\n",
       "      <td>2021</td>\n",
       "      <td>12</td>\n",
       "      <td>9.0</td>\n",
       "    </tr>\n",
       "    <tr>\n",
       "      <th>22041</th>\n",
       "      <td>S01FEA058</td>\n",
       "      <td>D1</td>\n",
       "      <td>2021-12-15</td>\n",
       "      <td>U1</td>\n",
       "      <td>2021-12-03</td>\n",
       "      <td>2</td>\n",
       "      <td>92.48</td>\n",
       "      <td>184.96</td>\n",
       "      <td>SPA</td>\n",
       "      <td>P52F1</td>\n",
       "      <td>SN0003013</td>\n",
       "      <td>2016-01-27</td>\n",
       "      <td>2137.0</td>\n",
       "      <td>2021</td>\n",
       "      <td>12</td>\n",
       "      <td>12.0</td>\n",
       "    </tr>\n",
       "  </tbody>\n",
       "</table>\n",
       "</div>"
      ],
      "text/plain": [
       "              id doc_type transaction_date order_type order_date  quantity  \\\n",
       "index                                                                        \n",
       "21592  S04ECF605       D1       2021-12-15         U1 2021-12-11         2   \n",
       "21593  S03D2C47C       D1       2021-12-13         U1 2021-12-02         1   \n",
       "21597  S03373322       D1       2021-12-12         U1 2021-12-08         4   \n",
       "22017  S038C0C8E       D1       2021-12-14         U1 2021-12-05         1   \n",
       "22041  S01FEA058       D1       2021-12-15         U1 2021-12-03         2   \n",
       "\n",
       "       unit_cost  extended_cost item_type product_id  serial_id install_date  \\\n",
       "index                                                                          \n",
       "21592       1.31           2.62       SPA     P144B5  SN0000928   2016-01-10   \n",
       "21593       2.99           2.99       SPA     P16657  SN0010734   2015-10-19   \n",
       "21597       3.29          13.16       SPA     P16657  SN0003017   2016-08-31   \n",
       "22017      29.33          29.33       SPA      PCBE1  SN0001489   2015-12-06   \n",
       "22041      92.48         184.96       SPA      P52F1  SN0003013   2016-01-27   \n",
       "\n",
       "       product_age  year  month  leadtime  \n",
       "index                                      \n",
       "21592       2162.0  2021     12       4.0  \n",
       "21593       2236.0  2021     12      11.0  \n",
       "21597       1925.0  2021     12       4.0  \n",
       "22017       2191.0  2021     12       9.0  \n",
       "22041       2137.0  2021     12      12.0  "
      ]
     },
     "execution_count": 76,
     "metadata": {},
     "output_type": "execute_result"
    }
   ],
   "source": [
    "df.head()"
   ]
  },
  {
   "cell_type": "code",
   "execution_count": 86,
   "id": "6ed6c83f",
   "metadata": {},
   "outputs": [],
   "source": [
    "#With the dataset cleaned up, we are exporting to excel to have better data to explore and model\n",
    "data = df.to_excel('/Users/talitacoll/The Bridge/MMP/data.xlsx')"
   ]
  },
  {
   "cell_type": "code",
   "execution_count": 87,
   "id": "9c20fbc4",
   "metadata": {},
   "outputs": [],
   "source": [
    "inst_base = ibdf.to_excel('/Users/talitacoll/The Bridge/MMP/inst_base.xlsx')"
   ]
  },
  {
   "cell_type": "markdown",
   "id": "bf1da86d",
   "metadata": {},
   "source": [
    "**At this point the Data wrangling has been conclude and we can start EDA.**"
   ]
  }
 ],
 "metadata": {
  "kernelspec": {
   "display_name": "Python 3.8.8 64-bit ('base': conda)",
   "language": "python",
   "name": "python388jvsc74a57bd012ba3e9c267e9c5df8f3127f994cd66448b86dd23c11a3e07ba56166331b0ff8"
  },
  "language_info": {
   "codemirror_mode": {
    "name": "ipython",
    "version": 3
   },
   "file_extension": ".py",
   "mimetype": "text/x-python",
   "name": "python",
   "nbconvert_exporter": "python",
   "pygments_lexer": "ipython3",
   "version": "3.8.8"
  }
 },
 "nbformat": 4,
 "nbformat_minor": 5
}
